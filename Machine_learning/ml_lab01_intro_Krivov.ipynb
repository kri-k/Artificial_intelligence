{
 "cells": [
  {
   "cell_type": "markdown",
   "metadata": {},
   "source": [
    "# Лабораторная работа 1\n",
    "## Язык Python, библиотеки NumPy и Pandas для анализа данных."
   ]
  },
  {
   "cell_type": "markdown",
   "metadata": {},
   "source": [
    "ФИО: Кривов Кирилл Иванович\n",
    "\n",
    "Группа: 8О-308Б"
   ]
  },
  {
   "cell_type": "code",
   "execution_count": null,
   "metadata": {
    "collapsed": true
   },
   "outputs": [],
   "source": [
    "import numpy as np\n",
    "import pandas as pd"
   ]
  },
  {
   "cell_type": "markdown",
   "metadata": {},
   "source": [
    "## Часть 1: Python"
   ]
  },
  {
   "cell_type": "markdown",
   "metadata": {},
   "source": [
    "#### 1. Напишите код, который сформирует список всех натуральных чисел, не превосходящих 100, которые делятся на 7 и не делятся на 5. Нельзя использовать циклы — выполните это задание с помощью list comprehension."
   ]
  },
  {
   "cell_type": "code",
   "execution_count": 1,
   "metadata": {
    "collapsed": false
   },
   "outputs": [
    {
     "data": {
      "text/plain": [
       "[7, 14, 21, 28, 42, 49, 56, 63, 77, 84, 91, 98]"
      ]
     },
     "execution_count": 1,
     "metadata": {},
     "output_type": "execute_result"
    }
   ],
   "source": [
    "[x for x in range(1, 101) if not x % 7 and x % 5]"
   ]
  },
  {
   "cell_type": "markdown",
   "metadata": {},
   "source": [
    "#### 2. Напишите функцию `sort_tokens(s)`, которая принимает на вход строку, разделяет ее на токены по запятым, сортирует токены с помощью функции `sorted()` и снова соединяет их в одну строку через запятые. Например, для строки `u\"ночь,фонарь,улица\"` функция должна выдать `u\"ночь,улица,фонарь\"`. Придумайте несколько входных строк и протестируйте функцию на них."
   ]
  },
  {
   "cell_type": "markdown",
   "metadata": {},
   "source": [
    "Обратите внимание, что склеить строки можно с помощью конструкции `'x'.join(...)`. Например:"
   ]
  },
  {
   "cell_type": "code",
   "execution_count": null,
   "metadata": {
    "collapsed": false
   },
   "outputs": [],
   "source": [
    "'! '.join(['i', 'am', 'very', 'excited', ':-)'])"
   ]
  },
  {
   "cell_type": "code",
   "execution_count": 2,
   "metadata": {
    "collapsed": false
   },
   "outputs": [
    {
     "name": "stdout",
     "output_type": "stream",
     "text": [
      "ночь,улица,фонарь\n",
      "1,2,3,4,5,6,A,B,C,a,b,c\n"
     ]
    }
   ],
   "source": [
    "def sort_tokens(s):\n",
    "    return ','.join(sorted(s.split(',')))\n",
    "print sort_tokens(\"ночь,фонарь,улица\")\n",
    "print sort_tokens(\"1,a,2,b,3,c,6,C,5,B,4,A\")"
   ]
  },
  {
   "cell_type": "markdown",
   "metadata": {},
   "source": [
    "#### 3. Напишите функцию `remove_duplicates(a)`, которая принимает на вход список и возвращает его же, но без дубликатов и в отсортированном виде. Например, для списка `[u\"ночь\", u\"улица\", u\"фонарь\", u\"аптека\", u\"аптека\", u\"улица\", u\"фонарь\"]` результат должен быть `[u\"аптека\", u\"ночь\", u\"улица\", u\"фонарь\", ]`."
   ]
  },
  {
   "cell_type": "markdown",
   "metadata": {},
   "source": [
    "Подсказка: обратите внимание на структуру `set`!"
   ]
  },
  {
   "cell_type": "code",
   "execution_count": 3,
   "metadata": {
    "collapsed": false
   },
   "outputs": [
    {
     "name": "stdout",
     "output_type": "stream",
     "text": [
      "аптека, ночь, улица, фонарь\n"
     ]
    }
   ],
   "source": [
    "def remove_duplicates(a):\n",
    "    return sorted(set(a))\n",
    "print ', '.join(remove_duplicates([u\"ночь\", u\"улица\", u\"фонарь\", u\"аптека\", u\"аптека\", u\"улица\", u\"фонарь\"]))"
   ]
  },
  {
   "cell_type": "markdown",
   "metadata": {},
   "source": [
    "#### 4. Напишите функцию `word_counts(texts)`, которая принимает на вход список строк, и печатает пары (слово, число вхождений). Считайте, что слова в текстах могут быть разделены только пробелами. Например, для входа `[u'ночь улица фонарь аптека', u'аптека улица фонарь']` должно быть напечатано\n",
    ">аптека 2\n",
    "\n",
    ">улица 2\n",
    "\n",
    ">фонарь 2\n",
    "\n",
    ">ночь 1"
   ]
  },
  {
   "cell_type": "markdown",
   "metadata": {},
   "source": [
    "Подсказки:\n",
    "\n",
    "Чтобы разбить каждый из текстов на слова, воспользуйтесь функцией `map`, которая применяет заданную функцию к каждому элементу списка. Например, если бы нужно было каждый из текстов привести к нижнему регистру, то команда выглядела бы так:"
   ]
  },
  {
   "cell_type": "code",
   "execution_count": null,
   "metadata": {
    "collapsed": false
   },
   "outputs": [],
   "source": [
    "map(lambda x: x.lower(), [\"abCDefg\", \"HIjkL\"])"
   ]
  },
  {
   "cell_type": "markdown",
   "metadata": {},
   "source": [
    "После первого шага вы получите список, состоящий из списков слов. Чтобы объединить их в один список слов, воспользуйтесь функцией `reduce`. Например, просуммировать числа из списка с ее помощью можно так:\n",
    "\n"
   ]
  },
  {
   "cell_type": "code",
   "execution_count": null,
   "metadata": {
    "collapsed": false
   },
   "outputs": [],
   "source": [
    "reduce(lambda x, y: x + y, [1, 2, 3, 4, 5])"
   ]
  },
  {
   "cell_type": "markdown",
   "metadata": {},
   "source": [
    "Для подсчета количества вхождений слов воспользуйтесь структурой `defaultdict` из модуля `collections`. В отличие от обычного `dict`, она не генерирует ошибку при обращении к несуществущему ключу, а создает новую запись, инициализируемую нулевым значением. Например:"
   ]
  },
  {
   "cell_type": "code",
   "execution_count": null,
   "metadata": {
    "collapsed": false
   },
   "outputs": [],
   "source": [
    "from collections import defaultdict\n",
    "d = defaultdict(int)\n",
    "print d\n",
    "d['abc'] += 1\n",
    "print d\n",
    "d['xxx']\n",
    "print d"
   ]
  },
  {
   "cell_type": "code",
   "execution_count": 4,
   "metadata": {
    "collapsed": false
   },
   "outputs": [
    {
     "name": "stdout",
     "output_type": "stream",
     "text": [
      "аптека\t- 2\n",
      "улица\t- 2\n",
      "фонарь\t- 2\n",
      "ночь\t- 1\n"
     ]
    }
   ],
   "source": [
    "from collections import defaultdict\n",
    "\n",
    "def word_counts(text):\n",
    "    d = defaultdict(int)\n",
    "    words = map(lambda x: x.lower().split(), text)\n",
    "    words = reduce(lambda x, y: x + y, words)\n",
    "    for i in words:\n",
    "        d[i] += 1\n",
    "    return d\n",
    "\n",
    "d = word_counts([u'ночь улица фонарь аптека', u'аптека улица фонарь'])\n",
    "for s, num in d.items():\n",
    "    print \"%s\\t- %s\" % (s, num) \n"
   ]
  },
  {
   "cell_type": "markdown",
   "metadata": {},
   "source": [
    "#### 5. Проанализируйте английский перевод \"Преступления и наказания\". Найдите 20 самых популярных слов и 20 слов, которые встречаются только один раз."
   ]
  },
  {
   "cell_type": "markdown",
   "metadata": {},
   "source": [
    "Приведите текст к нижнему регистру. Разделите текст на слова, считая разделителями все, кроме букв. Обратите внимание на функцию `split` из модуля `re`.\n",
    "\n",
    "Не забудьте удалить пустые слова:\n",
    "```\n",
    "words = filter(lambda x: len(x) > 0, words)\n",
    "```"
   ]
  },
  {
   "cell_type": "code",
   "execution_count": null,
   "metadata": {
    "collapsed": false
   },
   "outputs": [],
   "source": [
    "from urllib import urlopen\n",
    "url = \"http://www.gutenberg.org/files/2554/2554.txt\"\n",
    "response = urlopen(url)\n",
    "raw_text = response.read().decode('utf8')\n",
    "raw_text[1000:1100]"
   ]
  },
  {
   "cell_type": "code",
   "execution_count": 5,
   "metadata": {
    "collapsed": false
   },
   "outputs": [
    {
     "name": "stdout",
     "output_type": "stream",
     "text": [
      "20:\n",
      "the, and, to, he, a, i, you, of, it, that, in, was, his, at, her, but, not, s, with, she\n",
      "1:\n",
      "fawn, writings, nunnery, fedosya, clotted, preface, cyprus, increase, _might_, wheeled, superficially, _when, meadows, fogeys, anaemic, straws, busybody, reliable, scraped, errors\n"
     ]
    }
   ],
   "source": [
    "from urllib import urlopen\n",
    "import re\n",
    "from collections import defaultdict\n",
    "\n",
    "url = \"http://www.gutenberg.org/files/2554/2554.txt\"\n",
    "\n",
    "def proc_text(url):\n",
    "    response = urlopen(url)\n",
    "    raw_text = response.read().decode('utf8')\n",
    "\n",
    "    d = defaultdict(int)\n",
    "\n",
    "    words = re.split('\\W', raw_text)\n",
    "    words = filter(lambda x: len(x) > 0, words)\n",
    "    words = map(lambda x: x.lower(), words)\n",
    "    \n",
    "    for w in words:\n",
    "        d[w] += 1\n",
    "            \n",
    "    l1, l2 = [], []\n",
    "    for word, num in sorted(d.items(), key=lambda x: -x[1]):\n",
    "        if len(l1) < 20:\n",
    "            l1.append(word)\n",
    "        if num == 1:\n",
    "            l2.append(word)\n",
    "    return l1, l2\n",
    "    \n",
    "top20, top1 = proc_text(url)\n",
    "print \"20:\"\n",
    "print ', '.join(top20)\n",
    "print \"1:\"\n",
    "print ', '.join(top1[:20] if len(top1) > 20 else top1)"
   ]
  },
  {
   "cell_type": "markdown",
   "metadata": {},
   "source": [
    "## Часть 2: NumPy и SciPy"
   ]
  },
  {
   "cell_type": "markdown",
   "metadata": {},
   "source": [
    "#### 1. Повторите 1000 раз следующий эксперимент: сгенерируйте две матрицы размера $10 \\times 10$ из стандартного нормального распределения, перемножьте их (как матрицы) и найдите максимальный элемент. Какое среднее значение по экспериментам у максимальных элементов? А 95-процентная квантиль?"
   ]
  },
  {
   "cell_type": "markdown",
   "metadata": {},
   "source": [
    "Для вычисления квантили воспользуйтесь функцией `np.percentile`"
   ]
  },
  {
   "cell_type": "code",
   "execution_count": 1,
   "metadata": {
    "collapsed": false
   },
   "outputs": [
    {
     "name": "stdout",
     "output_type": "stream",
     "text": [
      "8.3558375019 11.7105232658\n"
     ]
    }
   ],
   "source": [
    "import numpy as np\n",
    "\n",
    "def exp(n, mu, sigma):\n",
    "    m1 = np.matrix(np.random.normal(mu, sigma, (n, n)))\n",
    "    m2 = np.matrix(np.random.normal(mu, sigma, (n, n)))\n",
    "    return np.dot(m1, m2).max()\n",
    "\n",
    "num_of_exp = 1000\n",
    "a = np.array([exp(10, 0, 1) for _ in xrange(num_of_exp)])\n",
    "mean = a.mean()\n",
    "percentile = np.percentile(a, 95)\n",
    "print mean, percentile"
   ]
  },
  {
   "cell_type": "markdown",
   "metadata": {},
   "source": [
    "#### 2. Сгенерируйте 1000 чисел из распределения Пуассона с параметром $\\lambda = 5$. Сформируйте массив, в котором в i-м элементе будет записано количество сгенерированных чисел, равных i."
   ]
  },
  {
   "cell_type": "markdown",
   "metadata": {},
   "source": [
    "Обратите внимание на функцию `np.bincount`"
   ]
  },
  {
   "cell_type": "code",
   "execution_count": 7,
   "metadata": {
    "collapsed": false
   },
   "outputs": [
    {
     "name": "stdout",
     "output_type": "stream",
     "text": [
      "[  4  30  85 150 201 170 132 110  59  31  14   9   3   1   1]\n"
     ]
    }
   ],
   "source": [
    "import numpy as np\n",
    "\n",
    "lam = 5\n",
    "size = 1000\n",
    "a = np.bincount(np.random.poisson(lam, (size,)))\n",
    "print a"
   ]
  },
  {
   "cell_type": "markdown",
   "metadata": {},
   "source": [
    "#### 3. Реализуйте функцию, которая принимает на вход numpy-массив целых чисел `a`, и генерирует массив, в котором число `i` встречается `a[i]` раз. Протестируйте на результате из прошлого задания."
   ]
  },
  {
   "cell_type": "markdown",
   "metadata": {},
   "source": [
    "Обратите внимание на функцию `np.repeat`"
   ]
  },
  {
   "cell_type": "code",
   "execution_count": 8,
   "metadata": {
    "collapsed": false
   },
   "outputs": [
    {
     "name": "stdout",
     "output_type": "stream",
     "text": [
      "All works fine: True\n"
     ]
    }
   ],
   "source": [
    "import numpy as np\n",
    "\n",
    "def gen_arr(a):\n",
    "    return np.repeat(np.arange(len(a)), a)\n",
    "\n",
    "lam = 5\n",
    "size = 1000\n",
    "test_arr = np.random.poisson(lam, (size,))\n",
    "a1 = np.bincount(test_arr)\n",
    "a2 = np.bincount(gen_arr(a1))\n",
    "print \"All works fine:\", (a1 == a2).all()"
   ]
  },
  {
   "cell_type": "markdown",
   "metadata": {},
   "source": [
    "#### 4. Напишите функцию `scale(X)`, которая принимает на вход матрицу и масштабирует каждый ее столбец (вычитает среднее и делит на стандартное отклонение). Убедитесь, что в функции не будет происходить деления на ноль. Протестируйте на каких-нибудь данных."
   ]
  },
  {
   "cell_type": "code",
   "execution_count": 2,
   "metadata": {
    "collapsed": false
   },
   "outputs": [
    {
     "name": "stdout",
     "output_type": "stream",
     "text": [
      "============\n",
      "[[ 0.76773945 -0.08141495 -1.85056378  0.85827919 -1.15052918]\n",
      " [-1.83233103  0.2752502   0.21564117 -0.33962968  1.45088577]\n",
      " [ 0.2432452   0.69555061 -0.08421349  0.70367197 -0.50449645]\n",
      " [ 0.98367667 -1.86566349  1.00807091  0.59420629 -0.70287102]\n",
      " [-0.1623303   0.97627763  0.71106519 -1.81652777  0.90701089]]\n",
      "vec of means:\n",
      "[[ -2.22044605e-17   2.22044605e-17   2.22044605e-17   4.44089210e-17\n",
      "   -2.22044605e-17]]\n",
      "vec of std:\n",
      "[[ 1.  1.  1.  1.  1.]]\n",
      "============\n",
      "[[-0.9258201   0.          0.        ]\n",
      " [ 1.38873015  0.          0.        ]\n",
      " [-0.46291005  0.          0.        ]]\n",
      "vec of means:\n",
      "[[ 0.  0.  0.]]\n",
      "vec of std:\n",
      "[[ 1.  0.  0.]]\n"
     ]
    }
   ],
   "source": [
    "import numpy as np\n",
    "\n",
    "def scale(mtrx):\n",
    "    means = np.mean(mtrx, axis=0)\n",
    "    devs = np.std(mtrx, axis=0)\n",
    "    devs[devs == 0] = 1\n",
    "    return (mtrx - means) / devs\n",
    "\n",
    "def test(m):\n",
    "    m = scale(m)\n",
    "    print \"============\"\n",
    "    print m\n",
    "    print \"vec of means:\\n\", np.mean(m, axis=0)\n",
    "    print \"vec of std:\\n\", np.std(m, axis=0)\n",
    "    \n",
    "m1 = np.matrix(np.random.normal(3, 42, (5, 5)))\n",
    "test(m1)\n",
    "\n",
    "m2 = np.matrix([[5, 2, 0],\n",
    "                [15, 2, 0],\n",
    "                [7, 2, 0]])\n",
    "test(m2)"
   ]
  },
  {
   "cell_type": "markdown",
   "metadata": {},
   "source": [
    "#### 5. Сгенерируйте матрицу с элементами из нормального распределения $\\mathcal{N}(10, 1)$. Найдите ее:\n",
    "- определитель (determinant)\n",
    "- след (trace)\n",
    "- наименьший и наибольший элементы\n",
    "- собственные числа\n",
    "- обратную матрицу"
   ]
  },
  {
   "cell_type": "code",
   "execution_count": 10,
   "metadata": {
    "collapsed": false
   },
   "outputs": [
    {
     "name": "stdout",
     "output_type": "stream",
     "text": [
      "det = -119\n",
      "trace = 46\n",
      "max = 11, min = 8\n",
      "eigvals =  [ 49.67569611+0.j          -1.16426169+2.15476146j  -1.16426169-2.15476146j\n",
      "   0.45846691+0.j          -0.87173199+0.j        ]\n",
      "inverse =  [[-0.31127175 -0.26882501  0.29277503  0.59047695 -0.27630479]\n",
      " [ 0.42764354  1.03116683  0.01255411 -2.63698259  1.17964262]\n",
      " [-0.90649459 -1.3967905  -0.57386976  4.70133941 -1.82351288]\n",
      " [ 0.02677055 -0.23485344  0.27987483 -0.25434604  0.22436074]\n",
      " [ 0.79892805  0.9453581   0.00849561 -2.51045688  0.77430807]]\n"
     ]
    }
   ],
   "source": [
    "import numpy as np\n",
    "import numpy.linalg as la\n",
    "\n",
    "mtrx = np.matrix(np.random.normal(10, 1, (5, 5)))\n",
    "print \"det = %d\" % la.det(mtrx)\n",
    "print \"trace = %d\" % np.trace(mtrx)\n",
    "print \"max = %d, min = %d\" % (mtrx.max(), mtrx.min())\n",
    "print \"eigvals = \", la.eigvals(mtrx)\n",
    "print \"inverse = \", la.inv(mtrx)"
   ]
  },
  {
   "cell_type": "markdown",
   "metadata": {},
   "source": [
    "## Часть 3: Pandas"
   ]
  },
  {
   "cell_type": "markdown",
   "metadata": {},
   "source": [
    "#### Ответьте на вопросы о данных по авиарейсам в США за январь-апрель 2008 года.\n",
    "\n",
    "Данные: http://stat-computing.org/dataexpo/2009/2008.csv.bz2\n",
    "(обратите внимание, что распаковывать этот файл не обязательно — функция `pandas.read_csv` умеет читать из архивов автоматически)\n",
    "\n",
    "Описание: http://stat-computing.org/dataexpo/2009/the-data.html\n",
    "\n",
    "1. Какая из причин отмены рейса (`CancellationCode`) была самой частой? (расшифровки кодов можно найти в описании данных)\n",
    "2. Найдите среднее, минимальное и максимальное расстояние, пройденное самолетом.\n",
    "3. Не выглядит ли подозрительным минимальное пройденное расстояние? В какие дни и на каких рейсах оно было? Какое расстояние было пройдено этими же рейсами в другие дни?\n",
    "4. Из какого аэропорта было произведено больше всего вылетов? В каком городе он находится?\n",
    "5. Найдите для каждого аэропорта среднее время полета (`AirTime`) по всем вылетевшим из него рейсам. Какой аэропорт имеет наибольшее значение этого показателя?\n",
    "6. Найдите аэропорт, у которого наибольшая доля задержанных (`DepDelay > 0`) рейсов. Исключите при этом из рассмотрения аэропорты, из которых было отправлено меньше 1000 рейсов (используйте функцию `filter` после `groupby`)."
   ]
  },
  {
   "cell_type": "code",
   "execution_count": 11,
   "metadata": {
    "collapsed": true
   },
   "outputs": [],
   "source": [
    "from pandas import *\n",
    "from collections import defaultdict, Counter\n",
    "import numpy as np\n",
    "\n",
    "\n",
    "url = \"http://stat-computing.org/dataexpo/2009/2008.csv.bz2\"\n",
    "path_bz2 = \"./2008.csv.bz2\"\n",
    "\n",
    "# from http://stat-computing.org/dataexpo/2009/supplemental-data.html\n",
    "path_airports = \"./airports.csv\"\n",
    "\n",
    "CANC_C = 'CancellationCode'\n",
    "DIS = 'Distance'\n",
    "OR = 'Origin'\n",
    "AT = 'AirTime'\n",
    "DM = 'DayofMonth'\n",
    "DW = 'DayOfWeek'\n",
    "MO = 'Month'\n",
    "DD = 'DepDelay'\n",
    "FN = 'FlightNum'\n",
    "\n",
    "CANCEL_CODE_CAUSES = dict(A = 'carrier', B = 'weather', C = 'NAS', D = 'security')"
   ]
  },
  {
   "cell_type": "code",
   "execution_count": 13,
   "metadata": {
    "collapsed": false
   },
   "outputs": [
    {
     "name": "stdout",
     "output_type": "stream",
     "text": [
      "# 1\n",
      "The most common cause of cancel was: weather\n"
     ]
    }
   ],
   "source": [
    "# 1\n",
    "cancellation_code_counter = Counter()\n",
    "\n",
    "reader = read_csv(path_bz2, compression='bz2', chunksize=100000)\n",
    "for chunk in reader:\n",
    "    for i in chunk[CANC_C].dropna():\n",
    "        cancellation_code_counter[i] += 1\n",
    "    \n",
    "print \"# 1\"\n",
    "print \"The most common cause of cancel was:\", \\\n",
    "        CANCEL_CODE_CAUSES[cancellation_code_counter.most_common(1)[0][0]]\n",
    "    \n",
    "del cancellation_code_counter\n",
    "del reader, chunk"
   ]
  },
  {
   "cell_type": "code",
   "execution_count": 14,
   "metadata": {
    "collapsed": false
   },
   "outputs": [
    {
     "name": "stdout",
     "output_type": "stream",
     "text": [
      "# 2\n",
      "Max distance = 4962 miles\n",
      "min distance = 11 miles\n",
      "mean distance = 726 miles\n"
     ]
    }
   ],
   "source": [
    "# 2\n",
    "distance_arr = np.array([])\n",
    "\n",
    "reader = read_csv(path_bz2, compression='bz2', chunksize=100000)\n",
    "for chunk in reader:\n",
    "    distance_arr = np.append(distance_arr, np.array(chunk[DIS]))\n",
    "    \n",
    "print \"# 2\"\n",
    "print \"Max distance = %d miles\\nmin distance = %d miles\\nmean distance = %d miles\" % (distance_arr.max(),\n",
    "                                                                                      distance_arr.min(),\n",
    "                                                                                      distance_arr.mean())\n",
    "\n",
    "min_dist = distance_arr.min() #  for cell below\n",
    "\n",
    "del distance_arr\n",
    "del reader, chunk"
   ]
  },
  {
   "cell_type": "code",
   "execution_count": 15,
   "metadata": {
    "collapsed": false
   },
   "outputs": [
    {
     "name": "stdout",
     "output_type": "stream",
     "text": [
      "# 3\n",
      "Min distance flight info:\n",
      "\n",
      "       FlightNum  DayofMonth  Month\n",
      "47298       4988          15      5\n",
      "92215       5572          10      8\n",
      "\n",
      "Same flight info:\n",
      "\n",
      "       DayofMonth  Distance  FlightNum  Month\n",
      "89314           5       544       5572      8\n",
      "90571           7       544       5572      8\n",
      "91200           8       544       5572      8\n",
      "91679           9       544       5572      8\n",
      "92214          10       544       5572      8\n",
      "92834          11       544       5572      8\n",
      "93421          12       544       5572      8\n",
      "94045          13       544       5572      8\n",
      "94677          14       544       5572      8\n",
      "95309          15       544       5572      8\n",
      "95786          16       544       5572      8\n",
      "96327          17       544       5572      8\n",
      "96949          18       544       5572      8\n",
      "97462          19       544       5572      8\n",
      "98047          20       544       5572      8\n",
      "98666          21       544       5572      8\n",
      "89938           6       544       5572      8\n",
      "99286          22       544       5572      8\n",
      "99765          23       544       5572      8\n",
      "88109           3       544       5572      8\n",
      "87574           2       544       5572      8\n",
      "87092           1       544       5572      8\n",
      "88724           4       544       5572      8\n",
      "41127           4       834       4988      5\n",
      "41649           5       834       4988      5\n",
      "42256           6       834       4988      5\n",
      "42783           7       834       4988      5\n",
      "43388           8       834       4988      5\n",
      "44001           9       834       4988      5\n",
      "45025          11       834       4988      5\n",
      "45558          12       834       4988      5\n",
      "46163          13       834       4988      5\n",
      "46690          14       834       4988      5\n",
      "47297          15       834       4988      5\n",
      "47912          16       834       4988      5\n",
      "44610          10       834       4988      5\n",
      "40716           3       834       4988      5\n"
     ]
    }
   ],
   "source": [
    "# 3\n",
    "# required min_dist var from cell above\n",
    "\n",
    "min_dist_info = DataFrame(columns=[FN, DM, MO])\n",
    "other_flights = DataFrame(columns=[FN, DIS, DM, MO])\n",
    "\n",
    "reader = read_csv(path_bz2, compression='bz2', chunksize=100000)\n",
    "for chunk in reader:\n",
    "    tmp = chunk.loc[:, [FN, DM, MO]][chunk[DIS] == min_dist]\n",
    "    min_dist_info = min_dist_info.append(tmp)\n",
    "    tmp = chunk.loc[:, [FN, DM, MO, DIS]][chunk[FN].isin(tmp[FN])]\n",
    "    other_flights = other_flights.append(tmp)\n",
    "    \n",
    "other_flights = other_flights[~other_flights.isin(min_dist_info)].dropna(how='all', subset=[FN, DM, MO])\n",
    "    \n",
    "print \"# 3\"\n",
    "print \"Min distance flight info:\\n\"\n",
    "print min_dist_info\n",
    "print \"\\nSame flight info:\\n\"\n",
    "print other_flights.sort_values(DIS)\n",
    "\n",
    "del min_dist_info, other_flights\n",
    "del reader, chunk"
   ]
  },
  {
   "cell_type": "code",
   "execution_count": 16,
   "metadata": {
    "collapsed": false
   },
   "outputs": [
    {
     "name": "stdout",
     "output_type": "stream",
     "text": [
      "# 4\n",
      "Most departures was from the airport: ATL\n",
      "City: Atlanta\n",
      "#5\n",
      "Average air time for each airport (in minutes):\n",
      "SJU - 203.850842697\n",
      "BQN - 190.857996019\n",
      "PSE - 184.336927224\n",
      "STT - 168.681928547\n",
      "STX - 168.101176471\n",
      "JFK - 167.355979889\n",
      "ANC - 156.16374855\n",
      "SEA - 154.814355907\n",
      "ADK - 151.423913043\n",
      "EWR - 143.296556471\n",
      "MIA - 142.526073122\n",
      "IAD - 135.594889175\n",
      "PHL - 133.680779173\n",
      "SWF - 132.768826201\n",
      "BOS - 132.636955033\n",
      "SFO - 132.337412244\n",
      "FLL - 130.374548193\n",
      "ISP - 129.134457115\n",
      "LAX - 128.85933658\n",
      "HPN - 128.567018291\n",
      "RFD - 128.235087719\n",
      "LGB - 127.073576623\n",
      "MCO - 127.008346729\n",
      "RSW - 126.046256575\n",
      "PBI - 125.329374476\n",
      "PDX - 123.19615708\n",
      "LAS - 119.734438057\n",
      "HNL - 119.579008715\n",
      "BDL - 118.701611783\n",
      "MDW - 118.226172519\n",
      "TPA - 117.917963188\n",
      "IAH - 115.20484777\n",
      "PHX - 115.005586252\n",
      "MHT - 112.813902452\n",
      "MSP - 111.436247943\n",
      "SAN - 110.930818973\n",
      "DEN - 109.944494124\n",
      "ACY - 108.848214286\n",
      "PVD - 108.444756767\n",
      "LGA - 107.180078153\n",
      "BWI - 106.413994906\n",
      "DFW - 106.406896779\n",
      "SNA - 105.176326478\n",
      "OGG - 103.784145907\n",
      "SRQ - 103.083806818\n",
      "ALB - 101.860526915\n",
      "AUS - 101.266599721\n",
      "BLI - 100.697478992\n",
      "PIT - 100.684291581\n",
      "PIR - 100.2\n",
      "STL - 99.2944086197\n",
      "EYW - 98.6130346232\n",
      "ORD - 98.5877846166\n",
      "BNA - 98.5021651143\n",
      "MCI - 98.0657860924\n",
      "SAT - 98.0433126442\n",
      "IND - 97.5725196305\n",
      "PWM - 96.8881034742\n",
      "DCA - 96.3243885545\n",
      "ORF - 95.838809864\n",
      "SLC - 95.5189411559\n",
      "OMA - 95.2132970275\n",
      "AVP - 94.6652040369\n",
      "CLT - 94.0279604466\n",
      "CLE - 93.9716299916\n",
      "OAK - 93.8293496477\n",
      "ATL - 93.3204186401\n",
      "SJC - 93.2464469308\n",
      "TEX - 93.1241830065\n",
      "SMF - 92.9073745638\n",
      "TUS - 92.8018639188\n",
      "MSY - 92.0996624253\n",
      "CVG - 92.094745928\n",
      "ABQ - 91.6571660038\n",
      "FCA - 91.3239488117\n",
      "FAI - 90.8928646601\n",
      "KOA - 90.608413214\n",
      "BGR - 90.2110951009\n",
      "BUF - 89.9991019133\n",
      "JAX - 89.4429216633\n",
      "ABE - 89.0575183111\n",
      "CMH - 88.8577481295\n",
      "RDU - 88.1692804899\n",
      "PSC - 87.4798564021\n",
      "DTW - 86.9232723705\n",
      "SLE - 86.3602484472\n",
      "ICT - 86.3178969103\n",
      "CAK - 85.922267947\n",
      "BRW - 85.7743300423\n",
      "GEG - 85.2811156002\n",
      "BTV - 85.0404411765\n",
      "RIC - 84.8152285832\n",
      "OKC - 84.7985023275\n",
      "SYR - 84.5240865919\n",
      "MDT - 84.393495935\n",
      "XNA - 84.2531803809\n",
      "PHF - 84.193877551\n",
      "ROC - 84.078516587\n",
      "GSO - 84.0544702367\n",
      "ONT - 83.950977565\n",
      "DSM - 83.7017281178\n",
      "COS - 83.185857951\n",
      "HOU - 83.0654438197\n",
      "BHM - 82.2907126872\n",
      "GSP - 82.2832324296\n",
      "SAV - 82.148683029\n",
      "CHS - 81.9690255812\n",
      "CAE - 81.7959466139\n",
      "OTH - 81.6169354839\n",
      "EGE - 81.0719837783\n",
      "TYS - 81.0308939527\n",
      "BZN - 81.0303819444\n",
      "MSO - 81.0179789213\n",
      "GTF - 80.9234042553\n",
      "GCC - 80.9230019493\n",
      "TUL - 80.8768021539\n",
      "YKM - 80.6973293769\n",
      "BOI - 80.4385476515\n",
      "PSP - 79.52\n",
      "ELP - 79.2234473338\n",
      "FNT - 78.8747514911\n",
      "MEM - 78.8412728466\n",
      "MKE - 78.208361511\n",
      "DAY - 77.7390654449\n",
      "CRW - 76.9734459867\n",
      "SDF - 76.6421133997\n",
      "MFR - 76.1974683544\n",
      "RNO - 75.8322424647\n",
      "BUR - 75.7816720362\n",
      "EWN - 75.6025806452\n",
      "HLN - 75.3509865005\n",
      "VPS - 75.2311157832\n",
      "EUG - 74.7557522124\n",
      "HSV - 74.5292885037\n",
      "CHO - 74.2568238213\n",
      "LNK - 73.6330494037\n",
      "DAB - 73.2328005559\n",
      "LMT - 73.006147541\n",
      "MLI - 72.9674057918\n",
      "MLB - 72.5445696721\n",
      "JAC - 72.2226177437\n",
      "BIL - 71.9730639731\n",
      "JAN - 71.4810784473\n",
      "BIS - 70.5894128114\n",
      "LIH - 70.5689681568\n",
      "OAJ - 70.3766233766\n",
      "FAR - 70.2471676301\n",
      "LIT - 69.9920021328\n",
      "AVL - 69.8990205224\n",
      "JNU - 69.6295688847\n",
      "CID - 68.9308600337\n",
      "AEX - 68.5435555556\n",
      "MOB - 68.5423258848\n",
      "PNS - 67.9898455223\n",
      "SGF - 67.9648230777\n",
      "COD - 67.7634500427\n",
      "ROW - 67.6455696203\n",
      "KTN - 67.6026143791\n",
      "MOT - 67.1484593838\n",
      "LEX - 67.0397647997\n",
      "SGU - 67.0293129771\n",
      "LWS - 66.9443585781\n",
      "BGM - 66.582260372\n",
      "RAP - 66.5532807104\n",
      "MLU - 66.2829726419\n",
      "GPT - 66.1788715486\n",
      "RDM - 66.1231628454\n",
      "FAT - 65.3468474865\n",
      "LYH - 65.2163934426\n",
      "MTJ - 65.2\n",
      "FSD - 65.12256707\n",
      "SCE - 64.4197730956\n",
      "BTR - 64.1180644411\n",
      "BFL - 64.0245109062\n",
      "BMI - 63.796977661\n",
      "HHH - 63.7218710493\n",
      "ROA - 63.4623565631\n",
      "LWB - 63.131147541\n",
      "WYS - 62.9619771863\n",
      "GJT - 62.907385466\n",
      "SCC - 62.9042253521\n",
      "MFE - 62.6437875752\n",
      "PMD - 62.1499292786\n",
      "HDN - 62.1332752613\n",
      "FAY - 62.0721973094\n",
      "GRR - 61.8819987585\n",
      "MYR - 61.6598534516\n",
      "OME - 61.6247544204\n",
      "LRD - 61.6156446161\n",
      "ITH - 61.3\n",
      "CPR - 60.6119850187\n",
      "GNV - 60.3652605459\n",
      "PFN - 60.2890356671\n",
      "SBA - 60.2261615671\n",
      "ILM - 59.819027611\n",
      "CHA - 59.3068926554\n",
      "TLH - 59.2930795848\n",
      "ELM - 59.0551301685\n",
      "DRO - 58.9033249511\n",
      "ACV - 58.8506584477\n",
      "MAF - 58.7982195846\n",
      "EVV - 58.7483431847\n",
      "MSN - 58.0556015349\n",
      "BRO - 57.6730632552\n",
      "BET - 57.5978152929\n",
      "LFT - 56.9921343537\n",
      "SHV - 56.7960230917\n",
      "BTM - 56.3101449275\n",
      "AMA - 56.1960010881\n",
      "FWA - 55.9354949391\n",
      "RKS - 55.4030335861\n",
      "IDA - 55.0883322347\n",
      "PIA - 54.9124170616\n",
      "DAL - 54.8670514762\n",
      "MRY - 54.4605618585\n",
      "RDD - 54.2074435631\n",
      "CEC - 54.1729249012\n",
      "LBB - 53.0514081909\n",
      "LAW - 52.5614718615\n",
      "FLO - 52.2662229617\n",
      "FSM - 51.9218034519\n",
      "SBP - 51.7487358326\n",
      "ATW - 50.6963256484\n",
      "ACK - 50.692124105\n",
      "DLG - 50.6846846847\n",
      "CMX - 50.1182795699\n",
      "DLH - 49.5601828339\n",
      "CDC - 49.3536585366\n",
      "TVC - 49.3287704718\n",
      "CRP - 49.235064428\n",
      "YUM - 48.8769515745\n",
      "GFK - 48.6721189591\n",
      "MEI - 48.3791540785\n",
      "ASE - 48.3079958463\n",
      "TOL - 48.2950466619\n",
      "SUN - 48.2218506132\n",
      "OTZ - 48.1467980296\n",
      "TRI - 47.8710462287\n",
      "EKO - 46.8140735959\n",
      "GTR - 46.4587737844\n",
      "SJT - 46.2474864656\n",
      "HRL - 46.1486325803\n",
      "GRK - 46.1399554814\n",
      "INL - 45.5352112676\n",
      "GUC - 45.4781181619\n",
      "VLD - 45.15835141\n",
      "SBN - 45.0776796467\n",
      "CIC - 44.9772058824\n",
      "CWA - 44.9301652893\n",
      "SUX - 44.9189189189\n",
      "BQK - 44.6169977925\n",
      "MGM - 44.0947591318\n",
      "CMI - 43.8334603659\n",
      "TXK - 43.7963118189\n",
      "PLN - 43.328\n",
      "RST - 43.314932993\n",
      "SIT - 42.9509727626\n",
      "TUP - 42.9\n",
      "SPI - 42.5390134529\n",
      "GRB - 42.2481800132\n",
      "MQT - 42.2027748132\n",
      "ADQ - 41.987933635\n",
      "RHI - 41.3381642512\n",
      "TWF - 41.31656303\n",
      "FLG - 40.4143583946\n",
      "CLL - 39.8374905518\n",
      "LSE - 39.3379164463\n",
      "GGG - 38.8624733475\n",
      "DHN - 38.300872093\n",
      "MBS - 37.4029038113\n",
      "AKN - 37.3214285714\n",
      "SMX - 37.3035822708\n",
      "IPL - 37.2761806982\n",
      "LAN - 37.1163450624\n",
      "BJI - 37.0\n",
      "AGS - 36.9338141706\n",
      "ABI - 36.7899770467\n",
      "ERI - 36.4487658938\n",
      "ALO - 36.3731343284\n",
      "YAK - 36.3721590909\n",
      "PIH - 36.083028083\n",
      "CDV - 35.3852691218\n",
      "ABY - 35.3797585887\n",
      "ITO - 35.096\n",
      "AZO - 34.8466019417\n",
      "HTS - 34.7225806452\n",
      "MOD - 34.0255147717\n",
      "IYK - 33.6593647317\n",
      "DBQ - 31.6280925778\n",
      "TYR - 30.3727154047\n",
      "ACT - 29.8759770714\n",
      "SPS - 29.4900398406\n",
      "LCH - 28.5340314136\n",
      "CLD - 25.901675485\n",
      "CSG - 24.966066482\n",
      "MCN - 24.8665594855\n",
      "BPT - 22.1478599222\n",
      "MKG - 22.1282051282\n",
      "OXR - 20.6254917388\n",
      "PSG - 20.1151603499\n",
      "PUB - 20.0\n",
      "WRG - 16.7416058394\n",
      "GST - 15.2771084337\n"
     ]
    }
   ],
   "source": [
    "# 4 and 5\n",
    "origin_counter = Counter()\n",
    "origin_air_times = defaultdict(lambda: np.array([]))\n",
    "\n",
    "reader = read_csv(path_bz2, compression='bz2', chunksize=100000)\n",
    "for chunk in reader:\n",
    "    for i in chunk.groupby([OR])[AT]:\n",
    "        origin_air_times[i[0]] = np.append(origin_air_times[i[0]], np.array(i[1].dropna()))\n",
    "        origin_counter[i[0]] += len(i[1])\n",
    "\n",
    "iata_df = read_csv(path_airports)\n",
    "\n",
    "print \"# 4\"\n",
    "most_common_iata = origin_counter.most_common(1)[0][0]\n",
    "print \"Most departures was from the airport:\", most_common_iata\n",
    "print \"City:\", iata_df[iata_df.iata == most_common_iata]['city'].values[0]\n",
    "    \n",
    "print \"#5\"\n",
    "print \"Average air time for each airport (in minutes):\"\n",
    "for i, j in sorted(origin_air_times.items(), key=lambda x: x[1].mean(), reverse=True):\n",
    "    print \"%s - %s\" % (i, j.mean())\n",
    "    \n",
    "del origin_counter, origin_air_times\n",
    "del reader, chunk"
   ]
  },
  {
   "cell_type": "code",
   "execution_count": 17,
   "metadata": {
    "collapsed": false
   },
   "outputs": [
    {
     "name": "stdout",
     "output_type": "stream",
     "text": [
      "# 6\n",
      "Answer: DAL\n"
     ]
    }
   ],
   "source": [
    "# 6\n",
    "df_or_dd = DataFrame(columns=[OR, DD])\n",
    "\n",
    "reader = read_csv(path_bz2, compression='bz2', chunksize=100000)\n",
    "for chunk in reader:\n",
    "    df_or_dd = df_or_dd.append(chunk.loc[:, [OR, DD]])\n",
    "    \n",
    "print \"# 6\"\n",
    "df_or_dd_filter = df_or_dd[df_or_dd[DD] > 0].groupby([OR]).filter(lambda x: len(x) > 1000).groupby([OR])\n",
    "df_or_dd = df_or_dd.groupby([OR]).size()\n",
    "ratios = Counter()\n",
    "for i in df_or_dd_filter:\n",
    "    ratios[i[0]] = float(len(i[1])) / df_or_dd[i[0]]\n",
    "print \"Answer:\", ratios.most_common(1)[0][0]\n",
    "\n",
    "del df_or_dd, df_or_dd_filter, ratios\n",
    "del reader, chunk"
   ]
  },
  {
   "cell_type": "code",
   "execution_count": null,
   "metadata": {
    "collapsed": true
   },
   "outputs": [],
   "source": []
  }
 ],
 "metadata": {
  "kernelspec": {
   "display_name": "Python 2",
   "language": "python",
   "name": "python2"
  },
  "language_info": {
   "codemirror_mode": {
    "name": "ipython",
    "version": 2
   },
   "file_extension": ".py",
   "mimetype": "text/x-python",
   "name": "python",
   "nbconvert_exporter": "python",
   "pygments_lexer": "ipython2",
   "version": "2.7.11"
  }
 },
 "nbformat": 4,
 "nbformat_minor": 0
}
